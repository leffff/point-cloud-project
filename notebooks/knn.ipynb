{
 "cells": [
  {
   "cell_type": "markdown",
   "id": "d06e85fb",
   "metadata": {
    "tags": []
   },
   "source": [
    "# Load libraries"
   ]
  },
  {
   "cell_type": "code",
   "execution_count": 1,
   "id": "ab43e056",
   "metadata": {
    "tags": []
   },
   "outputs": [],
   "source": [
    "import os\n",
    "import warnings\n",
    "\n",
    "from tqdm.auto import tqdm\n",
    "\n",
    "import pandas as pd\n",
    "import numpy as np\n",
    "import torch\n",
    "from torch import nn\n",
    "import h5py\n",
    "from sklearn.preprocessing import LabelEncoder\n",
    "\n",
    "import matplotlib.pyplot as plt\n",
    "import seaborn as sns"
   ]
  },
  {
   "cell_type": "markdown",
   "id": "cd74a901",
   "metadata": {
    "tags": []
   },
   "source": [
    "# Read Data"
   ]
  },
  {
   "cell_type": "code",
   "execution_count": 2,
   "id": "89c4e12b",
   "metadata": {
    "tags": []
   },
   "outputs": [
    {
     "data": {
      "text/plain": [
       "['../input/sem8_labels_training/sem8_labels_training/sg27_station9_intensity_rgb.labels',\n",
       " '../input/sem8_labels_training/sem8_labels_training/bildstein_station5_xyz_intensity_rgb.labels',\n",
       " '../input/sem8_labels_training/sem8_labels_training/sg28_station4_intensity_rgb.labels',\n",
       " '../input/sem8_labels_training/sem8_labels_training/sg27_station4_intensity_rgb.labels',\n",
       " '../input/sem8_labels_training/sem8_labels_training/untermaederbrunnen_station3_xyz_intensity_rgb.labels',\n",
       " '../input/sem8_labels_training/sem8_labels_training/bildstein_station1_xyz_intensity_rgb.labels',\n",
       " '../input/sem8_labels_training/sem8_labels_training/untermaederbrunnen_station1_xyz_intensity_rgb.labels',\n",
       " '../input/sem8_labels_training/sem8_labels_training/domfountain_station1_xyz_intensity_rgb.labels',\n",
       " '../input/sem8_labels_training/sem8_labels_training/neugasse_station1_xyz_intensity_rgb.labels',\n",
       " '../input/sem8_labels_training/sem8_labels_training/domfountain_station3_xyz_intensity_rgb.labels',\n",
       " '../input/sem8_labels_training/sem8_labels_training/sg27_station5_intensity_rgb.labels',\n",
       " '../input/sem8_labels_training/sem8_labels_training/sg27_station1_intensity_rgb.labels',\n",
       " '../input/sem8_labels_training/sem8_labels_training/sg27_station2_intensity_rgb.labels',\n",
       " '../input/sem8_labels_training/sem8_labels_training/domfountain_station2_xyz_intensity_rgb.labels',\n",
       " '../input/sem8_labels_training/sem8_labels_training/bildstein_station3_xyz_intensity_rgb.labels',\n",
       " '../input/domfountain_station1_xyz_intensity_rgb/domfountain_station1_xyz_intensity_rgb.txt',\n",
       " '../input/bildstein_station1_xyz_intensity_rgb/bildstein_station1_xyz_intensity_rgb.txt']"
      ]
     },
     "execution_count": 2,
     "metadata": {},
     "output_type": "execute_result"
    }
   ],
   "source": [
    "DATA_FOLDER = \"../input\"\n",
    "\n",
    "all_paths = [\n",
    "    os.path.join(path, file) for path, _, files in os.walk(top=DATA_FOLDER)\n",
    "    for file in files \n",
    "    if file.endswith('.labels') or file.endswith('.txt')\n",
    "]\n",
    "\n",
    "label_names = {0: 'unlabeled', \n",
    "               1: 'man-made terrain', \n",
    "               2: 'natural terrain', \n",
    "               3: 'high vegetation', \n",
    "               4: 'low vegetation', \n",
    "               5: 'buildings', \n",
    "               6: 'hard scape', \n",
    "               7: 'scanning artefacts', \n",
    "               8: 'cars'}\n",
    "\n",
    "all_paths"
   ]
  },
  {
   "cell_type": "code",
   "execution_count": 3,
   "id": "6f5c8fba",
   "metadata": {
    "tags": []
   },
   "outputs": [
    {
     "data": {
      "text/html": [
       "<div>\n",
       "<style scoped>\n",
       "    .dataframe tbody tr th:only-of-type {\n",
       "        vertical-align: middle;\n",
       "    }\n",
       "\n",
       "    .dataframe tbody tr th {\n",
       "        vertical-align: top;\n",
       "    }\n",
       "\n",
       "    .dataframe thead th {\n",
       "        text-align: right;\n",
       "    }\n",
       "</style>\n",
       "<table border=\"1\" class=\"dataframe\">\n",
       "  <thead>\n",
       "    <tr style=\"text-align: right;\">\n",
       "      <th></th>\n",
       "      <th>path</th>\n",
       "      <th>basename</th>\n",
       "      <th>id</th>\n",
       "      <th>ext</th>\n",
       "    </tr>\n",
       "  </thead>\n",
       "  <tbody>\n",
       "    <tr>\n",
       "      <th>5</th>\n",
       "      <td>../input/sem8_labels_training/sem8_labels_trai...</td>\n",
       "      <td>bildstein_station1_xyz_intensity_rgb.labels</td>\n",
       "      <td>bildstein_station1_xyz_intensity_rgb</td>\n",
       "      <td>labels</td>\n",
       "    </tr>\n",
       "    <tr>\n",
       "      <th>9</th>\n",
       "      <td>../input/sem8_labels_training/sem8_labels_trai...</td>\n",
       "      <td>domfountain_station3_xyz_intensity_rgb.labels</td>\n",
       "      <td>domfountain_station3_xyz_intensity_rgb</td>\n",
       "      <td>labels</td>\n",
       "    </tr>\n",
       "    <tr>\n",
       "      <th>11</th>\n",
       "      <td>../input/sem8_labels_training/sem8_labels_trai...</td>\n",
       "      <td>sg27_station1_intensity_rgb.labels</td>\n",
       "      <td>sg27_station1_intensity_rgb</td>\n",
       "      <td>labels</td>\n",
       "    </tr>\n",
       "  </tbody>\n",
       "</table>\n",
       "</div>"
      ],
      "text/plain": [
       "                                                 path  \\\n",
       "5   ../input/sem8_labels_training/sem8_labels_trai...   \n",
       "9   ../input/sem8_labels_training/sem8_labels_trai...   \n",
       "11  ../input/sem8_labels_training/sem8_labels_trai...   \n",
       "\n",
       "                                         basename  \\\n",
       "5     bildstein_station1_xyz_intensity_rgb.labels   \n",
       "9   domfountain_station3_xyz_intensity_rgb.labels   \n",
       "11             sg27_station1_intensity_rgb.labels   \n",
       "\n",
       "                                        id     ext  \n",
       "5     bildstein_station1_xyz_intensity_rgb  labels  \n",
       "9   domfountain_station3_xyz_intensity_rgb  labels  \n",
       "11             sg27_station1_intensity_rgb  labels  "
      ]
     },
     "execution_count": 3,
     "metadata": {},
     "output_type": "execute_result"
    }
   ],
   "source": [
    "all_files_df = pd.DataFrame({'path': all_paths})\n",
    "all_files_df['basename'] = all_files_df['path'].map(os.path.basename)\n",
    "all_files_df['id'] = all_files_df['basename'].map(lambda x: os.path.splitext(x)[0])\n",
    "all_files_df['ext'] = all_files_df['basename'].map(lambda x: os.path.splitext(x)[1][1:])\n",
    "all_files_df.sample(3)"
   ]
  },
  {
   "cell_type": "code",
   "execution_count": 4,
   "id": "6c731929",
   "metadata": {
    "tags": []
   },
   "outputs": [
    {
     "data": {
      "text/html": [
       "<div>\n",
       "<style scoped>\n",
       "    .dataframe tbody tr th:only-of-type {\n",
       "        vertical-align: middle;\n",
       "    }\n",
       "\n",
       "    .dataframe tbody tr th {\n",
       "        vertical-align: top;\n",
       "    }\n",
       "\n",
       "    .dataframe thead th {\n",
       "        text-align: right;\n",
       "    }\n",
       "</style>\n",
       "<table border=\"1\" class=\"dataframe\">\n",
       "  <thead>\n",
       "    <tr style=\"text-align: right;\">\n",
       "      <th>ext</th>\n",
       "      <th>id</th>\n",
       "      <th>labels</th>\n",
       "      <th>txt</th>\n",
       "    </tr>\n",
       "  </thead>\n",
       "  <tbody>\n",
       "    <tr>\n",
       "      <th>0</th>\n",
       "      <td>bildstein_station1_xyz_intensity_rgb</td>\n",
       "      <td>../input/sem8_labels_training/sem8_labels_trai...</td>\n",
       "      <td>../input/bildstein_station1_xyz_intensity_rgb/...</td>\n",
       "    </tr>\n",
       "    <tr>\n",
       "      <th>3</th>\n",
       "      <td>domfountain_station1_xyz_intensity_rgb</td>\n",
       "      <td>../input/sem8_labels_training/sem8_labels_trai...</td>\n",
       "      <td>../input/domfountain_station1_xyz_intensity_rg...</td>\n",
       "    </tr>\n",
       "  </tbody>\n",
       "</table>\n",
       "</div>"
      ],
      "text/plain": [
       "ext                                      id  \\\n",
       "0      bildstein_station1_xyz_intensity_rgb   \n",
       "3    domfountain_station1_xyz_intensity_rgb   \n",
       "\n",
       "ext                                             labels  \\\n",
       "0    ../input/sem8_labels_training/sem8_labels_trai...   \n",
       "3    ../input/sem8_labels_training/sem8_labels_trai...   \n",
       "\n",
       "ext                                                txt  \n",
       "0    ../input/bildstein_station1_xyz_intensity_rgb/...  \n",
       "3    ../input/domfountain_station1_xyz_intensity_rg...  "
      ]
     },
     "execution_count": 4,
     "metadata": {},
     "output_type": "execute_result"
    }
   ],
   "source": [
    "all_training_pairs = all_files_df.pivot_table(values = 'path', \n",
    "                                              columns = 'ext', \n",
    "                                              index = ['id'], \n",
    "                                              aggfunc = 'first').reset_index().dropna()\n",
    "all_training_pairs"
   ]
  },
  {
   "cell_type": "code",
   "execution_count": 5,
   "id": "07e87a8d",
   "metadata": {
    "tags": []
   },
   "outputs": [
    {
     "name": "stdout",
     "output_type": "stream",
     "text": [
      "ext\n",
      "id                   domfountain_station1_xyz_intensity_rgb\n",
      "labels    ../input/sem8_labels_training/sem8_labels_trai...\n",
      "txt       ../input/domfountain_station1_xyz_intensity_rg...\n",
      "Name: 3, dtype: object\n"
     ]
    },
    {
     "data": {
      "text/html": [
       "<div>\n",
       "<style scoped>\n",
       "    .dataframe tbody tr th:only-of-type {\n",
       "        vertical-align: middle;\n",
       "    }\n",
       "\n",
       "    .dataframe tbody tr th {\n",
       "        vertical-align: top;\n",
       "    }\n",
       "\n",
       "    .dataframe thead th {\n",
       "        text-align: right;\n",
       "    }\n",
       "</style>\n",
       "<table border=\"1\" class=\"dataframe\">\n",
       "  <thead>\n",
       "    <tr style=\"text-align: right;\">\n",
       "      <th></th>\n",
       "      <th>x</th>\n",
       "      <th>y</th>\n",
       "      <th>z</th>\n",
       "      <th>intensity</th>\n",
       "      <th>r</th>\n",
       "      <th>g</th>\n",
       "      <th>b</th>\n",
       "      <th>class</th>\n",
       "    </tr>\n",
       "  </thead>\n",
       "  <tbody>\n",
       "    <tr>\n",
       "      <th>0</th>\n",
       "      <td>-22.586</td>\n",
       "      <td>-72.368</td>\n",
       "      <td>0.640</td>\n",
       "      <td>-1365</td>\n",
       "      <td>227</td>\n",
       "      <td>226</td>\n",
       "      <td>231</td>\n",
       "      <td>0</td>\n",
       "    </tr>\n",
       "    <tr>\n",
       "      <th>1</th>\n",
       "      <td>-22.580</td>\n",
       "      <td>-72.500</td>\n",
       "      <td>-0.009</td>\n",
       "      <td>-1353</td>\n",
       "      <td>82</td>\n",
       "      <td>87</td>\n",
       "      <td>107</td>\n",
       "      <td>0</td>\n",
       "    </tr>\n",
       "    <tr>\n",
       "      <th>2</th>\n",
       "      <td>-22.603</td>\n",
       "      <td>-72.498</td>\n",
       "      <td>-0.030</td>\n",
       "      <td>-1367</td>\n",
       "      <td>96</td>\n",
       "      <td>108</td>\n",
       "      <td>134</td>\n",
       "      <td>0</td>\n",
       "    </tr>\n",
       "    <tr>\n",
       "      <th>3</th>\n",
       "      <td>-22.511</td>\n",
       "      <td>-72.496</td>\n",
       "      <td>-0.050</td>\n",
       "      <td>-1349</td>\n",
       "      <td>85</td>\n",
       "      <td>82</td>\n",
       "      <td>91</td>\n",
       "      <td>0</td>\n",
       "    </tr>\n",
       "    <tr>\n",
       "      <th>4</th>\n",
       "      <td>-22.512</td>\n",
       "      <td>-72.499</td>\n",
       "      <td>-0.037</td>\n",
       "      <td>-1368</td>\n",
       "      <td>83</td>\n",
       "      <td>80</td>\n",
       "      <td>89</td>\n",
       "      <td>0</td>\n",
       "    </tr>\n",
       "    <tr>\n",
       "      <th>5</th>\n",
       "      <td>-23.377</td>\n",
       "      <td>-78.032</td>\n",
       "      <td>-0.104</td>\n",
       "      <td>-1543</td>\n",
       "      <td>73</td>\n",
       "      <td>76</td>\n",
       "      <td>85</td>\n",
       "      <td>0</td>\n",
       "    </tr>\n",
       "    <tr>\n",
       "      <th>6</th>\n",
       "      <td>-22.535</td>\n",
       "      <td>-72.499</td>\n",
       "      <td>-0.058</td>\n",
       "      <td>-1344</td>\n",
       "      <td>85</td>\n",
       "      <td>84</td>\n",
       "      <td>92</td>\n",
       "      <td>0</td>\n",
       "    </tr>\n",
       "    <tr>\n",
       "      <th>7</th>\n",
       "      <td>-22.556</td>\n",
       "      <td>-72.495</td>\n",
       "      <td>-0.053</td>\n",
       "      <td>-1337</td>\n",
       "      <td>80</td>\n",
       "      <td>79</td>\n",
       "      <td>93</td>\n",
       "      <td>0</td>\n",
       "    </tr>\n",
       "    <tr>\n",
       "      <th>8</th>\n",
       "      <td>-22.535</td>\n",
       "      <td>-72.497</td>\n",
       "      <td>-0.036</td>\n",
       "      <td>-1367</td>\n",
       "      <td>84</td>\n",
       "      <td>81</td>\n",
       "      <td>90</td>\n",
       "      <td>0</td>\n",
       "    </tr>\n",
       "    <tr>\n",
       "      <th>9</th>\n",
       "      <td>-22.721</td>\n",
       "      <td>-72.514</td>\n",
       "      <td>-0.766</td>\n",
       "      <td>-1473</td>\n",
       "      <td>88</td>\n",
       "      <td>80</td>\n",
       "      <td>93</td>\n",
       "      <td>0</td>\n",
       "    </tr>\n",
       "  </tbody>\n",
       "</table>\n",
       "</div>"
      ],
      "text/plain": [
       "        x       y      z  intensity    r    g    b  class\n",
       "0 -22.586 -72.368  0.640      -1365  227  226  231      0\n",
       "1 -22.580 -72.500 -0.009      -1353   82   87  107      0\n",
       "2 -22.603 -72.498 -0.030      -1367   96  108  134      0\n",
       "3 -22.511 -72.496 -0.050      -1349   85   82   91      0\n",
       "4 -22.512 -72.499 -0.037      -1368   83   80   89      0\n",
       "5 -23.377 -78.032 -0.104      -1543   73   76   85      0\n",
       "6 -22.535 -72.499 -0.058      -1344   85   84   92      0\n",
       "7 -22.556 -72.495 -0.053      -1337   80   79   93      0\n",
       "8 -22.535 -72.497 -0.036      -1367   84   81   90      0\n",
       "9 -22.721 -72.514 -0.766      -1473   88   80   93      0"
      ]
     },
     "execution_count": 5,
     "metadata": {},
     "output_type": "execute_result"
    }
   ],
   "source": [
    "_, test_row = next(all_training_pairs.dropna().tail(1).iterrows())\n",
    "print(test_row)\n",
    "read_label_data = lambda path, rows: pd.read_table(path, sep = ' ', nrows = rows, names = ['class'], index_col = False)\n",
    "read_xyz_data = lambda path, rows: pd.read_table(path, sep = ' ', nrows = rows, names = ['x', 'y', 'z', 'intensity', 'r', 'g', 'b'], header = None) #x, y, z, intensity, r, g, b\n",
    "read_joint_data = lambda c_row, rows: pd.concat([read_xyz_data(c_row['txt'], rows), read_label_data(c_row['labels'], rows)], axis = 1)\n",
    "read_joint_data(test_row, 10)"
   ]
  },
  {
   "cell_type": "code",
   "execution_count": null,
   "id": "28507f8c",
   "metadata": {
    "tags": []
   },
   "outputs": [],
   "source": [
    "df = read_joint_data(test_row, None)\n",
    "df.shape"
   ]
  },
  {
   "cell_type": "code",
   "execution_count": null,
   "id": "eab20496",
   "metadata": {
    "tags": []
   },
   "outputs": [],
   "source": [
    "le = LabelEncoder()\n",
    "\n",
    "df[\"class\"] = le.fit_transform(df[\"class\"])\n",
    "sorted(df[\"class\"].unique())"
   ]
  },
  {
   "cell_type": "markdown",
   "id": "b6dbedd0",
   "metadata": {},
   "source": [
    "# EDA"
   ]
  },
  {
   "cell_type": "code",
   "execution_count": null,
   "id": "92657d1f",
   "metadata": {
    "tags": []
   },
   "outputs": [],
   "source": [
    "fraction = 0.1\n",
    "sample = df.sample(frac=fraction)"
   ]
  },
  {
   "cell_type": "code",
   "execution_count": null,
   "id": "638b150f",
   "metadata": {
    "tags": []
   },
   "outputs": [],
   "source": [
    "%%time\n",
    "fig, m_axs = plt.subplots(1, 3, figsize = (20, 5))\n",
    "ax_names = 'xyz'\n",
    "for i, c_ax in enumerate(m_axs.flatten()):\n",
    "    plot_axes = [x for j, x in enumerate(ax_names) if j!=i]\n",
    "    c_ax.scatter(sample[plot_axes[0]],\n",
    "                sample[plot_axes[1]],\n",
    "                c=sample[['r', 'g', 'b']].values / 255, \n",
    "                 s=1\n",
    "                )\n",
    "    c_ax.set_xlabel(plot_axes[0])\n",
    "    c_ax.set_ylabel(plot_axes[1])"
   ]
  },
  {
   "cell_type": "code",
   "execution_count": null,
   "id": "1e042cb2",
   "metadata": {
    "tags": []
   },
   "outputs": [],
   "source": [
    "%%time\n",
    "ax_names = 'xyz'\n",
    "\n",
    "max_keys = max(label_names.keys())\n",
    "fig, m_axs = plt.subplots(max_keys + 1, 3, figsize = (20, 30))\n",
    "for i, c_axs in enumerate(m_axs.T):\n",
    "    plot_axes = [x for j, x in enumerate(ax_names) if j != i]\n",
    "    for c_ax, (c_key, c_value) in zip(c_axs, label_names.items()):\n",
    "        c_df = sample[sample['class'] == c_key]\n",
    "        c_ax.scatter(\n",
    "            c_df[plot_axes[0]].values,\n",
    "            c_df[plot_axes[1]].values,\n",
    "            c=c_df[[\"r\", \"g\", \"b\"]].values / 255,\n",
    "            label = c_value,\n",
    "            s=1\n",
    "        )\n",
    "        c_ax.set_title('{}: {}'.format(c_value, ''.join(plot_axes)))\n",
    "        c_ax.set_xlabel(plot_axes[0])\n",
    "        c_ax.set_ylabel(plot_axes[1])\n",
    "        c_ax.axis('off')"
   ]
  },
  {
   "cell_type": "markdown",
   "id": "ea08f472",
   "metadata": {
    "tags": []
   },
   "source": [
    "# Clean data"
   ]
  },
  {
   "cell_type": "code",
   "execution_count": null,
   "id": "8dca03e8",
   "metadata": {
    "tags": []
   },
   "outputs": [],
   "source": [
    "fig, axs = plt.subplots(figsize=(15, 5), ncols=3)\n",
    "sns.distplot(df[\"x\"], ax=axs[0], kde=False)\n",
    "sns.distplot(df[\"y\"], ax=axs[1], kde=False)\n",
    "sns.distplot(df[\"z\"], ax=axs[2], kde=False)"
   ]
  },
  {
   "cell_type": "code",
   "execution_count": null,
   "id": "56dfaed4",
   "metadata": {
    "tags": []
   },
   "outputs": [],
   "source": [
    "df = df[\n",
    "    (-50 <= df[\"x\"]) &\n",
    "    ((-50 <= df[\"y\"]) & (df[\"y\"] <= 50)) &\n",
    "    (df[\"z\"] <= 25)\n",
    "]"
   ]
  },
  {
   "cell_type": "code",
   "execution_count": null,
   "id": "432cec4e",
   "metadata": {
    "tags": []
   },
   "outputs": [],
   "source": [
    "df = df.dropna()\n",
    "df.shape"
   ]
  },
  {
   "cell_type": "markdown",
   "id": "b71474e8",
   "metadata": {},
   "source": [
    "# Preparation"
   ]
  },
  {
   "cell_type": "code",
   "execution_count": 14,
   "id": "db9ec1bd",
   "metadata": {},
   "outputs": [],
   "source": [
    "from sklearn.model_selection import StratifiedKFold\n",
    "from sklearn.metrics import accuracy_score, balanced_accuracy_score, f1_score"
   ]
  },
  {
   "cell_type": "code",
   "execution_count": 15,
   "id": "826f6661",
   "metadata": {},
   "outputs": [],
   "source": [
    "features = ['x', 'y', 'z', 'intensity', 'r', 'g', 'b']\n",
    "target = \"class\"\n",
    "\n",
    "X, y = df[features], df[target]"
   ]
  },
  {
   "cell_type": "markdown",
   "id": "e1a91089",
   "metadata": {
    "tags": []
   },
   "source": [
    "# KNN"
   ]
  },
  {
   "cell_type": "code",
   "execution_count": 16,
   "id": "36414360",
   "metadata": {},
   "outputs": [],
   "source": [
    "from sklearn.neighbors import KNeighborsClassifier\n",
    "from sklearn.preprocessing import StandardScaler\n",
    "from sklearn.compose import ColumnTransformer\n",
    "from sklearn.pipeline import Pipeline"
   ]
  },
  {
   "cell_type": "code",
   "execution_count": 17,
   "id": "fb5d8f41",
   "metadata": {
    "tags": []
   },
   "outputs": [],
   "source": [
    "scaler = StandardScaler()\n",
    "\n",
    "model = KNeighborsClassifier(\n",
    "    n_neighbors=5,\n",
    "    algorithm=\"kd_tree\"\n",
    ")"
   ]
  },
  {
   "cell_type": "code",
   "execution_count": null,
   "id": "aa1d9b74",
   "metadata": {
    "tags": []
   },
   "outputs": [],
   "source": [
    "N_SPLITS=6\n",
    "RANDOM_STATE=42\n",
    "SHUFFLE=True\n",
    "\n",
    "scores = []\n",
    "\n",
    "skf = StratifiedKFold(n_splits=N_SPLITS, random_state=RANDOM_STATE, shuffle=SHUFFLE)\n",
    "\n",
    "for i, (train_index, val_index) in enumerate(skf.split(X, y)):\n",
    "    X_train, X_val = X.iloc[train_index], X.iloc[val_index]\n",
    "    y_train, y_val = y.iloc[train_index], y.iloc[val_index]\n",
    "\n",
    "    pipeline = Pipeline(steps=[\n",
    "        ('preprocess', scaler),\n",
    "        ('classifier', model)\n",
    "    ])        \n",
    "    \n",
    "    pipeline.fit(X_train, y_train)\n",
    "\n",
    "    preds = pipeline.predict(X_val)\n",
    "\n",
    "    score = {\n",
    "        \"Balanced Accuracy\": balanced_accuracy_score(y_val, preds),\n",
    "        \"Accuracy\": accuracy_score(y_val, preds),\n",
    "        \"F1 Weighted\": f1_score(y_val, preds, average='weighted'),\n",
    "    }\n",
    "    print(score)\n",
    "    \n",
    "    scores.append(score)"
   ]
  }
 ],
 "metadata": {
  "kernelspec": {
   "display_name": "Python 3 (ipykernel)",
   "language": "python",
   "name": "python3"
  },
  "language_info": {
   "codemirror_mode": {
    "name": "ipython",
    "version": 3
   },
   "file_extension": ".py",
   "mimetype": "text/x-python",
   "name": "python",
   "nbconvert_exporter": "python",
   "pygments_lexer": "ipython3",
   "version": "3.10.6"
  }
 },
 "nbformat": 4,
 "nbformat_minor": 5
}
