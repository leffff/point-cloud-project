{
 "cells": [
  {
   "cell_type": "markdown",
   "id": "6334800c-3266-4e5c-8736-a9d052085d5a",
   "metadata": {
    "tags": []
   },
   "source": [
    "# Load libraries"
   ]
  },
  {
   "cell_type": "code",
   "execution_count": 1,
   "id": "dd252cac",
   "metadata": {
    "tags": []
   },
   "outputs": [],
   "source": [
    "import os\n",
    "import warnings\n",
    "\n",
    "from tqdm.auto import tqdm\n",
    "\n",
    "import pandas as pd\n",
    "import numpy as np\n",
    "import torch\n",
    "from torch import nn\n",
    "import h5py\n",
    "from sklearn.preprocessing import LabelEncoder\n",
    "\n",
    "import matplotlib.pyplot as plt\n",
    "import seaborn as sns"
   ]
  },
  {
   "cell_type": "markdown",
   "id": "1124605c-0962-499b-873f-14f59568f9c8",
   "metadata": {
    "tags": []
   },
   "source": [
    "# Read Data"
   ]
  },
  {
   "cell_type": "code",
   "execution_count": 3,
   "id": "a09a18c3",
   "metadata": {
    "tags": []
   },
   "outputs": [
    {
     "data": {
      "text/plain": [
       "['../input/sem8_labels_training/sem8_labels_training/sg27_station9_intensity_rgb.labels',\n",
       " '../input/sem8_labels_training/sem8_labels_training/bildstein_station5_xyz_intensity_rgb.labels',\n",
       " '../input/sem8_labels_training/sem8_labels_training/sg28_station4_intensity_rgb.labels',\n",
       " '../input/sem8_labels_training/sem8_labels_training/sg27_station4_intensity_rgb.labels',\n",
       " '../input/sem8_labels_training/sem8_labels_training/untermaederbrunnen_station3_xyz_intensity_rgb.labels',\n",
       " '../input/sem8_labels_training/sem8_labels_training/bildstein_station1_xyz_intensity_rgb.labels',\n",
       " '../input/sem8_labels_training/sem8_labels_training/untermaederbrunnen_station1_xyz_intensity_rgb.labels',\n",
       " '../input/sem8_labels_training/sem8_labels_training/domfountain_station1_xyz_intensity_rgb.labels',\n",
       " '../input/sem8_labels_training/sem8_labels_training/neugasse_station1_xyz_intensity_rgb.labels',\n",
       " '../input/sem8_labels_training/sem8_labels_training/domfountain_station3_xyz_intensity_rgb.labels',\n",
       " '../input/sem8_labels_training/sem8_labels_training/sg27_station5_intensity_rgb.labels',\n",
       " '../input/sem8_labels_training/sem8_labels_training/sg27_station1_intensity_rgb.labels',\n",
       " '../input/sem8_labels_training/sem8_labels_training/sg27_station2_intensity_rgb.labels',\n",
       " '../input/sem8_labels_training/sem8_labels_training/domfountain_station2_xyz_intensity_rgb.labels',\n",
       " '../input/sem8_labels_training/sem8_labels_training/bildstein_station3_xyz_intensity_rgb.labels',\n",
       " '../input/domfountain_station1_xyz_intensity_rgb/domfountain_station1_xyz_intensity_rgb.txt',\n",
       " '../input/bildstein_station1_xyz_intensity_rgb/bildstein_station1_xyz_intensity_rgb.txt']"
      ]
     },
     "execution_count": 3,
     "metadata": {},
     "output_type": "execute_result"
    }
   ],
   "source": [
    "DATA_FOLDER = \"../input\"\n",
    "\n",
    "all_paths = [\n",
    "    os.path.join(path, file) for path, _, files in os.walk(top=DATA_FOLDER)\n",
    "    for file in files \n",
    "    if file.endswith('.labels') or file.endswith('.txt')\n",
    "]\n",
    "\n",
    "label_names = {0: 'unlabeled', \n",
    "               1: 'man-made terrain', \n",
    "               2: 'natural terrain', \n",
    "               3: 'high vegetation', \n",
    "               4: 'low vegetation', \n",
    "               5: 'buildings', \n",
    "               6: 'hard scape', \n",
    "               7: 'scanning artefacts', \n",
    "               8: 'cars'}\n",
    "\n",
    "all_paths"
   ]
  },
  {
   "cell_type": "code",
   "execution_count": 4,
   "id": "ba51f425",
   "metadata": {
    "tags": []
   },
   "outputs": [
    {
     "data": {
      "text/html": [
       "<div>\n",
       "<style scoped>\n",
       "    .dataframe tbody tr th:only-of-type {\n",
       "        vertical-align: middle;\n",
       "    }\n",
       "\n",
       "    .dataframe tbody tr th {\n",
       "        vertical-align: top;\n",
       "    }\n",
       "\n",
       "    .dataframe thead th {\n",
       "        text-align: right;\n",
       "    }\n",
       "</style>\n",
       "<table border=\"1\" class=\"dataframe\">\n",
       "  <thead>\n",
       "    <tr style=\"text-align: right;\">\n",
       "      <th></th>\n",
       "      <th>path</th>\n",
       "      <th>basename</th>\n",
       "      <th>id</th>\n",
       "      <th>ext</th>\n",
       "    </tr>\n",
       "  </thead>\n",
       "  <tbody>\n",
       "    <tr>\n",
       "      <th>8</th>\n",
       "      <td>../input/sem8_labels_training/sem8_labels_trai...</td>\n",
       "      <td>neugasse_station1_xyz_intensity_rgb.labels</td>\n",
       "      <td>neugasse_station1_xyz_intensity_rgb</td>\n",
       "      <td>labels</td>\n",
       "    </tr>\n",
       "    <tr>\n",
       "      <th>6</th>\n",
       "      <td>../input/sem8_labels_training/sem8_labels_trai...</td>\n",
       "      <td>untermaederbrunnen_station1_xyz_intensity_rgb....</td>\n",
       "      <td>untermaederbrunnen_station1_xyz_intensity_rgb</td>\n",
       "      <td>labels</td>\n",
       "    </tr>\n",
       "    <tr>\n",
       "      <th>13</th>\n",
       "      <td>../input/sem8_labels_training/sem8_labels_trai...</td>\n",
       "      <td>domfountain_station2_xyz_intensity_rgb.labels</td>\n",
       "      <td>domfountain_station2_xyz_intensity_rgb</td>\n",
       "      <td>labels</td>\n",
       "    </tr>\n",
       "  </tbody>\n",
       "</table>\n",
       "</div>"
      ],
      "text/plain": [
       "                                                 path  \\\n",
       "8   ../input/sem8_labels_training/sem8_labels_trai...   \n",
       "6   ../input/sem8_labels_training/sem8_labels_trai...   \n",
       "13  ../input/sem8_labels_training/sem8_labels_trai...   \n",
       "\n",
       "                                             basename  \\\n",
       "8          neugasse_station1_xyz_intensity_rgb.labels   \n",
       "6   untermaederbrunnen_station1_xyz_intensity_rgb....   \n",
       "13      domfountain_station2_xyz_intensity_rgb.labels   \n",
       "\n",
       "                                               id     ext  \n",
       "8             neugasse_station1_xyz_intensity_rgb  labels  \n",
       "6   untermaederbrunnen_station1_xyz_intensity_rgb  labels  \n",
       "13         domfountain_station2_xyz_intensity_rgb  labels  "
      ]
     },
     "execution_count": 4,
     "metadata": {},
     "output_type": "execute_result"
    }
   ],
   "source": [
    "all_files_df = pd.DataFrame({'path': all_paths})\n",
    "all_files_df['basename'] = all_files_df['path'].map(os.path.basename)\n",
    "all_files_df['id'] = all_files_df['basename'].map(lambda x: os.path.splitext(x)[0])\n",
    "all_files_df['ext'] = all_files_df['basename'].map(lambda x: os.path.splitext(x)[1][1:])\n",
    "all_files_df.sample(3)"
   ]
  },
  {
   "cell_type": "code",
   "execution_count": 5,
   "id": "d46631e4",
   "metadata": {
    "tags": []
   },
   "outputs": [
    {
     "data": {
      "text/html": [
       "<div>\n",
       "<style scoped>\n",
       "    .dataframe tbody tr th:only-of-type {\n",
       "        vertical-align: middle;\n",
       "    }\n",
       "\n",
       "    .dataframe tbody tr th {\n",
       "        vertical-align: top;\n",
       "    }\n",
       "\n",
       "    .dataframe thead th {\n",
       "        text-align: right;\n",
       "    }\n",
       "</style>\n",
       "<table border=\"1\" class=\"dataframe\">\n",
       "  <thead>\n",
       "    <tr style=\"text-align: right;\">\n",
       "      <th>ext</th>\n",
       "      <th>id</th>\n",
       "      <th>labels</th>\n",
       "      <th>txt</th>\n",
       "    </tr>\n",
       "  </thead>\n",
       "  <tbody>\n",
       "    <tr>\n",
       "      <th>0</th>\n",
       "      <td>bildstein_station1_xyz_intensity_rgb</td>\n",
       "      <td>../input/sem8_labels_training/sem8_labels_trai...</td>\n",
       "      <td>../input/bildstein_station1_xyz_intensity_rgb/...</td>\n",
       "    </tr>\n",
       "    <tr>\n",
       "      <th>3</th>\n",
       "      <td>domfountain_station1_xyz_intensity_rgb</td>\n",
       "      <td>../input/sem8_labels_training/sem8_labels_trai...</td>\n",
       "      <td>../input/domfountain_station1_xyz_intensity_rg...</td>\n",
       "    </tr>\n",
       "  </tbody>\n",
       "</table>\n",
       "</div>"
      ],
      "text/plain": [
       "ext                                      id  \\\n",
       "0      bildstein_station1_xyz_intensity_rgb   \n",
       "3    domfountain_station1_xyz_intensity_rgb   \n",
       "\n",
       "ext                                             labels  \\\n",
       "0    ../input/sem8_labels_training/sem8_labels_trai...   \n",
       "3    ../input/sem8_labels_training/sem8_labels_trai...   \n",
       "\n",
       "ext                                                txt  \n",
       "0    ../input/bildstein_station1_xyz_intensity_rgb/...  \n",
       "3    ../input/domfountain_station1_xyz_intensity_rg...  "
      ]
     },
     "execution_count": 5,
     "metadata": {},
     "output_type": "execute_result"
    }
   ],
   "source": [
    "all_training_pairs = all_files_df.pivot_table(values = 'path', \n",
    "                                              columns = 'ext', \n",
    "                                              index = ['id'], \n",
    "                                              aggfunc = 'first').reset_index().dropna()\n",
    "all_training_pairs"
   ]
  },
  {
   "cell_type": "code",
   "execution_count": 6,
   "id": "5865f2fe",
   "metadata": {
    "tags": []
   },
   "outputs": [
    {
     "name": "stdout",
     "output_type": "stream",
     "text": [
      "ext\n",
      "id                   domfountain_station1_xyz_intensity_rgb\n",
      "labels    ../input/sem8_labels_training/sem8_labels_trai...\n",
      "txt       ../input/domfountain_station1_xyz_intensity_rg...\n",
      "Name: 3, dtype: object\n"
     ]
    },
    {
     "data": {
      "text/html": [
       "<div>\n",
       "<style scoped>\n",
       "    .dataframe tbody tr th:only-of-type {\n",
       "        vertical-align: middle;\n",
       "    }\n",
       "\n",
       "    .dataframe tbody tr th {\n",
       "        vertical-align: top;\n",
       "    }\n",
       "\n",
       "    .dataframe thead th {\n",
       "        text-align: right;\n",
       "    }\n",
       "</style>\n",
       "<table border=\"1\" class=\"dataframe\">\n",
       "  <thead>\n",
       "    <tr style=\"text-align: right;\">\n",
       "      <th></th>\n",
       "      <th>x</th>\n",
       "      <th>y</th>\n",
       "      <th>z</th>\n",
       "      <th>intensity</th>\n",
       "      <th>r</th>\n",
       "      <th>g</th>\n",
       "      <th>b</th>\n",
       "      <th>class</th>\n",
       "    </tr>\n",
       "  </thead>\n",
       "  <tbody>\n",
       "    <tr>\n",
       "      <th>0</th>\n",
       "      <td>-22.586</td>\n",
       "      <td>-72.368</td>\n",
       "      <td>0.640</td>\n",
       "      <td>-1365</td>\n",
       "      <td>227</td>\n",
       "      <td>226</td>\n",
       "      <td>231</td>\n",
       "      <td>0</td>\n",
       "    </tr>\n",
       "    <tr>\n",
       "      <th>1</th>\n",
       "      <td>-22.580</td>\n",
       "      <td>-72.500</td>\n",
       "      <td>-0.009</td>\n",
       "      <td>-1353</td>\n",
       "      <td>82</td>\n",
       "      <td>87</td>\n",
       "      <td>107</td>\n",
       "      <td>0</td>\n",
       "    </tr>\n",
       "    <tr>\n",
       "      <th>2</th>\n",
       "      <td>-22.603</td>\n",
       "      <td>-72.498</td>\n",
       "      <td>-0.030</td>\n",
       "      <td>-1367</td>\n",
       "      <td>96</td>\n",
       "      <td>108</td>\n",
       "      <td>134</td>\n",
       "      <td>0</td>\n",
       "    </tr>\n",
       "    <tr>\n",
       "      <th>3</th>\n",
       "      <td>-22.511</td>\n",
       "      <td>-72.496</td>\n",
       "      <td>-0.050</td>\n",
       "      <td>-1349</td>\n",
       "      <td>85</td>\n",
       "      <td>82</td>\n",
       "      <td>91</td>\n",
       "      <td>0</td>\n",
       "    </tr>\n",
       "    <tr>\n",
       "      <th>4</th>\n",
       "      <td>-22.512</td>\n",
       "      <td>-72.499</td>\n",
       "      <td>-0.037</td>\n",
       "      <td>-1368</td>\n",
       "      <td>83</td>\n",
       "      <td>80</td>\n",
       "      <td>89</td>\n",
       "      <td>0</td>\n",
       "    </tr>\n",
       "    <tr>\n",
       "      <th>5</th>\n",
       "      <td>-23.377</td>\n",
       "      <td>-78.032</td>\n",
       "      <td>-0.104</td>\n",
       "      <td>-1543</td>\n",
       "      <td>73</td>\n",
       "      <td>76</td>\n",
       "      <td>85</td>\n",
       "      <td>0</td>\n",
       "    </tr>\n",
       "    <tr>\n",
       "      <th>6</th>\n",
       "      <td>-22.535</td>\n",
       "      <td>-72.499</td>\n",
       "      <td>-0.058</td>\n",
       "      <td>-1344</td>\n",
       "      <td>85</td>\n",
       "      <td>84</td>\n",
       "      <td>92</td>\n",
       "      <td>0</td>\n",
       "    </tr>\n",
       "    <tr>\n",
       "      <th>7</th>\n",
       "      <td>-22.556</td>\n",
       "      <td>-72.495</td>\n",
       "      <td>-0.053</td>\n",
       "      <td>-1337</td>\n",
       "      <td>80</td>\n",
       "      <td>79</td>\n",
       "      <td>93</td>\n",
       "      <td>0</td>\n",
       "    </tr>\n",
       "    <tr>\n",
       "      <th>8</th>\n",
       "      <td>-22.535</td>\n",
       "      <td>-72.497</td>\n",
       "      <td>-0.036</td>\n",
       "      <td>-1367</td>\n",
       "      <td>84</td>\n",
       "      <td>81</td>\n",
       "      <td>90</td>\n",
       "      <td>0</td>\n",
       "    </tr>\n",
       "    <tr>\n",
       "      <th>9</th>\n",
       "      <td>-22.721</td>\n",
       "      <td>-72.514</td>\n",
       "      <td>-0.766</td>\n",
       "      <td>-1473</td>\n",
       "      <td>88</td>\n",
       "      <td>80</td>\n",
       "      <td>93</td>\n",
       "      <td>0</td>\n",
       "    </tr>\n",
       "  </tbody>\n",
       "</table>\n",
       "</div>"
      ],
      "text/plain": [
       "        x       y      z  intensity    r    g    b  class\n",
       "0 -22.586 -72.368  0.640      -1365  227  226  231      0\n",
       "1 -22.580 -72.500 -0.009      -1353   82   87  107      0\n",
       "2 -22.603 -72.498 -0.030      -1367   96  108  134      0\n",
       "3 -22.511 -72.496 -0.050      -1349   85   82   91      0\n",
       "4 -22.512 -72.499 -0.037      -1368   83   80   89      0\n",
       "5 -23.377 -78.032 -0.104      -1543   73   76   85      0\n",
       "6 -22.535 -72.499 -0.058      -1344   85   84   92      0\n",
       "7 -22.556 -72.495 -0.053      -1337   80   79   93      0\n",
       "8 -22.535 -72.497 -0.036      -1367   84   81   90      0\n",
       "9 -22.721 -72.514 -0.766      -1473   88   80   93      0"
      ]
     },
     "execution_count": 6,
     "metadata": {},
     "output_type": "execute_result"
    }
   ],
   "source": [
    "_, test_row = next(all_training_pairs.dropna().tail(1).iterrows())\n",
    "print(test_row)\n",
    "read_label_data = lambda path, rows: pd.read_table(path, sep = ' ', nrows = rows, names = ['class'], index_col = False)\n",
    "read_xyz_data = lambda path, rows: pd.read_table(path, sep = ' ', nrows = rows, names = ['x', 'y', 'z', 'intensity', 'r', 'g', 'b'], header = None) #x, y, z, intensity, r, g, b\n",
    "read_joint_data = lambda c_row, rows: pd.concat([read_xyz_data(c_row['txt'], rows), read_label_data(c_row['labels'], rows)], axis = 1)\n",
    "read_joint_data(test_row, 10)"
   ]
  },
  {
   "cell_type": "code",
   "execution_count": 7,
   "id": "2269d9d2-e4b4-41af-ae4e-b84fef688c30",
   "metadata": {
    "tags": []
   },
   "outputs": [
    {
     "data": {
      "text/plain": [
       "(44990641, 8)"
      ]
     },
     "execution_count": 7,
     "metadata": {},
     "output_type": "execute_result"
    }
   ],
   "source": [
    "df = read_joint_data(test_row, None)\n",
    "df.shape"
   ]
  },
  {
   "cell_type": "code",
   "execution_count": 8,
   "id": "c5244744-14a8-4ffe-82c2-391ce8467942",
   "metadata": {
    "tags": []
   },
   "outputs": [
    {
     "data": {
      "text/plain": [
       "[0, 1, 2, 3, 4, 5, 6, 7]"
      ]
     },
     "execution_count": 8,
     "metadata": {},
     "output_type": "execute_result"
    }
   ],
   "source": [
    "le = LabelEncoder()\n",
    "\n",
    "df[\"class\"] = le.fit_transform(df[\"class\"])\n",
    "sorted(df[\"class\"].unique())"
   ]
  },
  {
   "cell_type": "code",
   "execution_count": 9,
   "id": "ef1fd6ed-0ed4-4d9e-bca8-cc40c3b2fe47",
   "metadata": {
    "tags": []
   },
   "outputs": [],
   "source": [
    "fraction = 0.1\n",
    "sample = df.sample(frac=fraction)"
   ]
  },
  {
   "cell_type": "code",
   "execution_count": null,
   "id": "d978500d-df92-4ab5-83d8-536ca482d364",
   "metadata": {
    "tags": []
   },
   "outputs": [
    {
     "name": "stdout",
     "output_type": "stream",
     "text": [
      "CPU times: user 774 ms, sys: 180 ms, total: 954 ms\n",
      "Wall time: 953 ms\n"
     ]
    }
   ],
   "source": [
    "%%time\n",
    "fig, m_axs = plt.subplots(1, 3, figsize = (20, 5))\n",
    "ax_names = 'xyz'\n",
    "for i, c_ax in enumerate(m_axs.flatten()):\n",
    "    plot_axes = [x for j, x in enumerate(ax_names) if j!=i]\n",
    "    c_ax.scatter(sample[plot_axes[0]],\n",
    "                sample[plot_axes[1]],\n",
    "                c=sample[['r', 'g', 'b']].values / 255, \n",
    "                 s=1\n",
    "                )\n",
    "    c_ax.set_xlabel(plot_axes[0])\n",
    "    c_ax.set_ylabel(plot_axes[1])"
   ]
  },
  {
   "cell_type": "code",
   "execution_count": null,
   "id": "5ec8b6b8-e7ef-4d67-a2a6-51bb3fcbc87b",
   "metadata": {
    "tags": []
   },
   "outputs": [],
   "source": [
    "%%time\n",
    "ax_names = 'xyz'\n",
    "\n",
    "max_keys = max(label_names.keys())\n",
    "fig, m_axs = plt.subplots(max_keys + 1, 3, figsize = (20, 30))\n",
    "for i, c_axs in enumerate(m_axs.T):\n",
    "    plot_axes = [x for j, x in enumerate(ax_names) if j != i]\n",
    "    for c_ax, (c_key, c_value) in zip(c_axs, label_names.items()):\n",
    "        c_df = sample[sample['class'] == c_key]\n",
    "        c_ax.scatter(\n",
    "            c_df[plot_axes[0]].values,\n",
    "            c_df[plot_axes[1]].values,\n",
    "            c=c_df[[\"r\", \"g\", \"b\"]].values / 255,\n",
    "            label = c_value,\n",
    "            s=1\n",
    "        )\n",
    "        c_ax.set_title('{}: {}'.format(c_value, ''.join(plot_axes)))\n",
    "        c_ax.set_xlabel(plot_axes[0])\n",
    "        c_ax.set_ylabel(plot_axes[1])\n",
    "        c_ax.axis('off')"
   ]
  },
  {
   "cell_type": "markdown",
   "id": "3509c6e9-62ac-4e82-a415-ea02c7a5d792",
   "metadata": {
    "tags": []
   },
   "source": [
    "# Clean data"
   ]
  },
  {
   "cell_type": "code",
   "execution_count": null,
   "id": "ccf7816d-4368-4b24-ad40-df858caaedc7",
   "metadata": {
    "tags": []
   },
   "outputs": [],
   "source": [
    "fig, axs = plt.subplots(figsize=(15, 5), ncols=3)\n",
    "sns.distplot(df[\"x\"], ax=axs[0], kde=False)\n",
    "sns.distplot(df[\"y\"], ax=axs[1], kde=False)\n",
    "sns.distplot(df[\"z\"], ax=axs[2], kde=False)"
   ]
  },
  {
   "cell_type": "code",
   "execution_count": null,
   "id": "8a98b856-6ce5-42b0-9cce-2887dd07388e",
   "metadata": {
    "tags": []
   },
   "outputs": [],
   "source": [
    "df = df[\n",
    "    (-50 <= df[\"x\"]) &\n",
    "    ((-50 <= df[\"y\"]) & (df[\"y\"] <= 50)) &\n",
    "    (df[\"z\"] <= 25)\n",
    "]"
   ]
  },
  {
   "cell_type": "code",
   "execution_count": null,
   "id": "474ddb38-edf9-4600-9632-4c5401724f52",
   "metadata": {
    "tags": []
   },
   "outputs": [],
   "source": [
    "df = df.dropna()\n",
    "df.shape"
   ]
  },
  {
   "cell_type": "markdown",
   "id": "3eea650d-05a8-4e6b-988c-cd620e12f8c1",
   "metadata": {
    "tags": []
   },
   "source": [
    "# Graph Neural Networks"
   ]
  },
  {
   "cell_type": "code",
   "execution_count": null,
   "id": "d5dda5fe-0ccd-4bf3-9059-28650531b6ff",
   "metadata": {
    "tags": []
   },
   "outputs": [],
   "source": [
    "def weights_init_xavier(m):\n",
    "    '''\n",
    "    Xavier uniform\n",
    "    '''\n",
    "    classname = m.__class__.__name__\n",
    "\n",
    "    if classname.find('Linear') != -1:\n",
    "        torch.nn.init.xavier_uniform(m.weight)\n",
    "        m.bias.data.fill_(0.01)"
   ]
  },
  {
   "cell_type": "code",
   "execution_count": null,
   "id": "dafd1240-c8f5-49ff-9fc7-18dd51625d24",
   "metadata": {
    "tags": []
   },
   "outputs": [],
   "source": [
    "from torch_geometric.data import DataListLoader, Data, DataLoader\n",
    "from typing import Tuple, List\n",
    "from sklearn.neighbors import kneighbors_graph\n",
    "\n",
    "\n",
    "def adj_matrix2edge_index(A: torch.Tensor) -> torch.LongTensor:\n",
    "    edge_index = A.nonzero().t().contiguous().long()\n",
    "    return edge_index\n",
    "\n",
    "\n",
    "class GraphMiner():\n",
    "    def __init__(self, coordinate_cols: List[int] = [0, 1, 2], n_neighbors: int = 5, norm: str = \"l2\"):\n",
    "        \"\"\"\n",
    "        :norm: str: ‘cityblock’, ‘cosine’, ‘euclidean’, ‘haversine’, ‘l1’, ‘l2’, ‘manhattan’, ‘nan_euclidean’\n",
    "        \"\"\"\n",
    "        self.coordinate_cols = coordinate_cols\n",
    "        self.n_neighbors = n_neighbors\n",
    "        self.norm = norm\n",
    "        \n",
    "    def __call__(self, point_cloud_batch: torch.Tensor) -> Tuple[torch.Tensor, torch.Tensor]:\n",
    "        A = torch.tensor(\n",
    "            kneighbors_graph(\n",
    "                point_cloud_batch[:, self.coordinate_cols].numpy(), \n",
    "                self.n_neighbors, \n",
    "                mode='connectivity', \n",
    "                include_self=True\n",
    "            ).toarray()\n",
    "        )\n",
    "        \n",
    "        edge_index = adj_matrix2edge_index(A)\n",
    "\n",
    "        return torch.tensor(point_cloud_batch), edge_index\n",
    "        \n",
    "\n",
    "def create_batch_graph(x, edge_index):\n",
    "    return Data(\n",
    "              x=x, \n",
    "              edge_index=edge_index, \n",
    "    )"
   ]
  },
  {
   "cell_type": "code",
   "execution_count": null,
   "id": "e15ff374-9747-4db1-b215-b05b26fd8e4d",
   "metadata": {
    "tags": []
   },
   "outputs": [],
   "source": [
    "def train_epoch(model, data_loader, miner, loss_function, optimizer, scheduler, device):\n",
    "    model.train()\n",
    "\n",
    "    dl_size = len(data_loader)\n",
    "    total_train_loss = 0\n",
    "\n",
    "    logits = []\n",
    "    targets = []\n",
    "\n",
    "    for batch in tqdm(data_loader):\n",
    "        features, batch_target = batch\n",
    "        features, batch_target = (\n",
    "            features.float(),\n",
    "            batch_target.to(device),\n",
    "        )\n",
    "        \n",
    "        features, edge_index = miner(features)\n",
    "        graph = create_batch_graph(features.to(device), edge_index.to(device))\n",
    "\n",
    "        optimizer.zero_grad()\n",
    "        batch_logits = model(graph)\n",
    "\n",
    "        logits.append(batch_logits.detach().cpu().squeeze(0))\n",
    "        targets.append(batch_target.cpu())\n",
    "        \n",
    "        loss = loss_function(batch_logits.double().squeeze(0), batch_target)\n",
    "        total_train_loss += loss.item()\n",
    "\n",
    "        loss.backward()\n",
    "        torch.nn.utils.clip_grad_norm_(model.parameters(), 1.0)\n",
    "        optimizer.step()\n",
    "        scheduler.step()\n",
    "\n",
    "    logits = torch.cat(logits, dim=0)\n",
    "    targets = torch.cat(targets, dim=0).numpy()\n",
    "    probas = torch.softmax(logits, dim=1).numpy()\n",
    "    preds = torch.argmax(logits, dim=1).numpy()\n",
    "    \n",
    "    metrics = {\n",
    "        \"Balanced Accuracy\": balanced_accuracy_score(targets, preds),\n",
    "        \"Accuracy\": accuracy_score(targets, preds),\n",
    "        \"F1 Weighted\": f1_score(targets, preds, average='weighted'),\n",
    "    }\n",
    "    metrics[\"loss\"] = total_train_loss / dl_size\n",
    "\n",
    "    return metrics\n",
    "\n",
    "\n",
    "def eval_epoch(model, data_loader, miner, loss_function, device):\n",
    "    model.eval()\n",
    "\n",
    "    dl_size = len(data_loader)\n",
    "    total_train_loss = 0\n",
    "\n",
    "    logits = []\n",
    "    targets = []\n",
    "\n",
    "    for batch in tqdm(data_loader):\n",
    "        features, batch_target = batch\n",
    "        features, batch_target = (\n",
    "            features.float(),\n",
    "            batch_target.to(device),\n",
    "        )\n",
    "        \n",
    "        features, edge_index = miner(features)\n",
    "        graph = create_batch_graph(features.to(device), edge_index.to(device))\n",
    "\n",
    "        with torch.no_grad():\n",
    "            batch_logits = model(graph)\n",
    "\n",
    "            logits.append(batch_logits.detach().cpu().squeeze(0))\n",
    "            targets.append(batch_target.cpu())\n",
    "        \n",
    "        loss = loss_function(batch_logits.squeeze(0), batch_target)\n",
    "        total_train_loss += loss.item()\n",
    "\n",
    "    logits = torch.cat(logits, dim=0)\n",
    "    targets = torch.cat(targets, dim=0).numpy()\n",
    "    probas = torch.softmax(logits, dim=1).numpy()\n",
    "    preds = torch.argmax(logits, dim=1).numpy()\n",
    "    \n",
    "    metrics = {\n",
    "        \"Balanced Accuracy\": balanced_accuracy_score(targets, preds),\n",
    "        \"Accuracy\": accuracy_score(targets, preds),\n",
    "        \"F1 Weighted\": f1_score(targets, preds, average='weighted'),\n",
    "    }\n",
    "    metrics[\"loss\"] = total_train_loss / dl_size\n",
    "\n",
    "    return metrics\n",
    "\n",
    "\n",
    "def cross_validation(\n",
    "        model,\n",
    "        dataset,\n",
    "        miner,\n",
    "        loss_function,\n",
    "        optimizer,\n",
    "        get_scheduler,\n",
    "        strat_array=None,\n",
    "        device=torch.device(\"cuda\"),\n",
    "        random_state: int = 69,\n",
    "        shuffle: bool = True,\n",
    "        dataloader_shuffle=False,\n",
    "        n_folds: int = 4,\n",
    "        epochs: int = 5,\n",
    "        lr: float = 1e-6,\n",
    "        weight_decay: float = 1e-2,\n",
    "        num_warmup_steps: int = 0,\n",
    "        start_fold: int = 0,\n",
    "        batch_size: int = 32,\n",
    "):\n",
    "    loss_function.to(device)\n",
    "\n",
    "    if type(strat_array) != type(None):\n",
    "        kfold = StratifiedKFold(n_folds, shuffle=shuffle, random_state=random_state)\n",
    "        split = kfold.split(dataset, strat_array)\n",
    "    else:\n",
    "        kfold = KFold(n_folds, shuffle=shuffle, random_state=random_state)\n",
    "        split = kfold.split(dataset)\n",
    "\n",
    "    fold_train_scores = []\n",
    "    fold_eval_scores = []\n",
    "\n",
    "    for fold, (train_ids, eval_ids) in enumerate(split):\n",
    "        if fold >= start_fold:\n",
    "            print(f\"FOLD {fold}\")\n",
    "            print(\"--------------------------------\")\n",
    "\n",
    "            epoch_train_scores = []\n",
    "            epoch_eval_scores = []\n",
    "\n",
    "            fold_model = deepcopy(model)\n",
    "            fold_model.to(device)\n",
    "\n",
    "            fold_optimizer = optimizer(\n",
    "                fold_model.parameters(),\n",
    "                lr=lr,\n",
    "                weight_decay=weight_decay,\n",
    "            )\n",
    "\n",
    "            train_subsampler = torch.utils.data.Subset(dataset, train_ids)\n",
    "            train_loader = torch.utils.data.DataLoader(\n",
    "                train_subsampler, \n",
    "                batch_size=batch_size, \n",
    "                shuffle=dataloader_shuffle\n",
    "            )\n",
    "\n",
    "            eval_subsampler = torch.utils.data.Subset(dataset, eval_ids)\n",
    "            eval_loader = torch.utils.data.DataLoader(\n",
    "                eval_subsampler, \n",
    "                batch_size=batch_size, \n",
    "                shuffle=dataloader_shuffle\n",
    "            )\n",
    "\n",
    "            total_steps = len(train_loader) * epochs\n",
    "\n",
    "            if get_scheduler != get_constant_schedule:\n",
    "                scheduler = get_scheduler(\n",
    "                    fold_optimizer,\n",
    "                    num_warmup_steps=num_warmup_steps,\n",
    "                    num_training_steps=total_steps\n",
    "                )\n",
    "            else:\n",
    "                scheduler = get_scheduler(\n",
    "                    fold_optimizer,\n",
    "                )\n",
    "\n",
    "            for epoch_i in range(epochs):\n",
    "                train_metrics = train_epoch(\n",
    "                    fold_model,\n",
    "                    train_loader,\n",
    "                    miner,\n",
    "                    loss_function,\n",
    "                    fold_optimizer,\n",
    "                    scheduler,\n",
    "                    device,\n",
    "                )\n",
    "                eval_metrics = eval_epoch(\n",
    "                    fold_model,\n",
    "                    eval_loader,\n",
    "                    miner,\n",
    "                    loss_function,\n",
    "                    device,\n",
    "                )\n",
    "\n",
    "                epoch_train_scores.append(train_metrics)\n",
    "                epoch_eval_scores.append(eval_metrics)\n",
    "\n",
    "                print(f\"EPOCH: {epoch_i}\")\n",
    "                print(train_metrics)\n",
    "                print(eval_metrics)\n",
    "\n",
    "        fold_train_scores.append(epoch_train_scores)\n",
    "        fold_eval_scores.append(epoch_eval_scores)\n",
    "\n",
    "    return fold_train_scores, fold_eval_scores"
   ]
  },
  {
   "cell_type": "code",
   "execution_count": null,
   "id": "bdb0754b-0b9a-4029-86c3-5825df85755e",
   "metadata": {
    "tags": []
   },
   "outputs": [],
   "source": [
    "train_dataset = PointCloudDataset(train)\n",
    "miner = GraphMiner(\n",
    "    coordinate_cols=[0, 1, 2],\n",
    "    n_neighbors=10, \n",
    "    norm=\"l2\"\n",
    ")"
   ]
  },
  {
   "cell_type": "code",
   "execution_count": null,
   "id": "ccdfdf03-305b-4064-ba0f-55c4aafc29c2",
   "metadata": {
    "tags": []
   },
   "outputs": [],
   "source": [
    "from torch_geometric.nn import GCNConv, BatchNorm, Linear\n",
    "\n",
    "\n",
    "class GNN(torch.nn.Module):\n",
    "    def __init__(self, hidden_channels):\n",
    "        super(GNN, self).__init__()\n",
    "        torch.manual_seed(12345)\n",
    "        self.conv1 = GCNConv(7, hidden_channels)\n",
    "        self.conv2 = GCNConv(hidden_channels, hidden_channels)\n",
    "        self.conv3 = GCNConv(hidden_channels, hidden_channels)\n",
    "        self.conv4 = GCNConv(hidden_channels, hidden_channels)\n",
    "        self.conv5 = GCNConv(hidden_channels, hidden_channels)\n",
    "        self.conv6 = GCNConv(hidden_channels * 5, hidden_channels)\n",
    "\n",
    "        self.norm1 = BatchNorm(hidden_channels)\n",
    "        self.norm2 = BatchNorm(hidden_channels)\n",
    "        self.norm3 = BatchNorm(hidden_channels)\n",
    "        self.norm4 = BatchNorm(hidden_channels)\n",
    "        self.norm5 = BatchNorm(hidden_channels)\n",
    "        self.norm6 = BatchNorm(hidden_channels)\n",
    " \n",
    "        self.lin = Linear(hidden_channels, 8)\n",
    " \n",
    "    def forward(self, data):\n",
    "        x, edge_index, batch = data.x, data.edge_index, data.batch\n",
    "\n",
    "        x1 = self.conv1(x, edge_index)\n",
    "        x1 = x1.relu()\n",
    "        x1 = self.norm1(x1)\n",
    " \n",
    "        x2 = self.conv2(x1, edge_index)\n",
    "        x2 = x2.relu()\n",
    "        x2 = self.norm2(x2)\n",
    "\n",
    "        x3 = self.conv3(x2, edge_index)\n",
    "        x3 = x3.relu()\n",
    "        x3 = self.norm3(x3)\n",
    " \n",
    "        x4 = self.conv4(x3, edge_index)\n",
    "        x4 = x4.relu()\n",
    "        x4 = self.norm4(x4)\n",
    "         \n",
    "        x5 = self.conv5(x4, edge_index)\n",
    "        x5 = x5.relu()\n",
    "        x5 = self.norm5(x5)\n",
    " \n",
    "        x6 = self.conv6(torch.hstack([x1, x2, x3, x4, x5]), edge_index)\n",
    "        x6 = x6.relu()\n",
    "        x6 = self.norm6(x6)\n",
    "        \n",
    "        return self.lin(x6) \n",
    "    \n",
    "    \n",
    "model = GNN(hidden_channels=128)\n",
    "weights_init_xavier(model)"
   ]
  },
  {
   "cell_type": "code",
   "execution_count": null,
   "id": "963acdcc-1ddd-40b7-9b66-3fabf05b3ef4",
   "metadata": {
    "tags": []
   },
   "outputs": [],
   "source": [
    "from sklearn.utils.class_weight import compute_class_weight\n",
    "\n",
    "\n",
    "loss = nn.CrossEntropyLoss(\n",
    "       weight=torch.tensor(\n",
    "        compute_class_weight(\n",
    "            class_weight=\"balanced\",\n",
    "            classes=sorted(train[\"class\"].unique()),\n",
    "            y=train[\"class\"].to_numpy()\n",
    "        )\n",
    "    )\n",
    ")"
   ]
  },
  {
   "cell_type": "code",
   "execution_count": null,
   "id": "ac8c4bd2-f778-45ec-9415-f024e2f18967",
   "metadata": {
    "tags": []
   },
   "outputs": [],
   "source": [
    "cross_validation(\n",
    "        model=model,\n",
    "        dataset=train_dataset,\n",
    "        miner=miner,\n",
    "        loss_function=loss,\n",
    "        optimizer=torch.optim.AdamW,\n",
    "        get_scheduler=get_constant_schedule,\n",
    "        strat_array=train[\"class\"],\n",
    "        device=\"cpu\",\n",
    "        random_state=69,\n",
    "        shuffle=True,\n",
    "        dataloader_shuffle=False,\n",
    "        n_folds=4,\n",
    "        epochs=5,\n",
    "        lr=1e-3,\n",
    "        weight_decay=1e-2,\n",
    "        num_warmup_steps=0,\n",
    "        start_fold=0,\n",
    "        batch_size=2048\n",
    ")"
   ]
  },
  {
   "cell_type": "code",
   "execution_count": null,
   "id": "202122cd-f5cf-4d13-97ed-b35037026304",
   "metadata": {},
   "outputs": [],
   "source": []
  }
 ],
 "metadata": {
  "kernelspec": {
   "display_name": "Python 3 (ipykernel)",
   "language": "python",
   "name": "python3"
  },
  "language_info": {
   "codemirror_mode": {
    "name": "ipython",
    "version": 3
   },
   "file_extension": ".py",
   "mimetype": "text/x-python",
   "name": "python",
   "nbconvert_exporter": "python",
   "pygments_lexer": "ipython3",
   "version": "3.10.6"
  }
 },
 "nbformat": 4,
 "nbformat_minor": 5
}
